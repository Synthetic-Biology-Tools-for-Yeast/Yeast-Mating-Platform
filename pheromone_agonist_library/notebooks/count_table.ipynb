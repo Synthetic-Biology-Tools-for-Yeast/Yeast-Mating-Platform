{
 "cells": [
  {
   "cell_type": "code",
   "execution_count": 1,
   "metadata": {},
   "outputs": [],
   "source": [
    "# Need to be run on Virtual Machine\n",
    "\n",
    "import dinopy\n",
    "import pandas as pd\n",
    "import tables\n",
    "import numpy as np\n",
    "import glob\n",
    "\n",
    "# Get all .fasta files in the specified directory\n",
    "fasta_files = glob.glob('../data/interim/finalData/*.fasta')\n",
    "\n",
    "# create empty DataFrame\n",
    "sample_names = [i.split(\"/\")[-1].split(\".\")[0] for i in fasta_files]\n",
    "df = pd.DataFrame(dtype=np.uint64)\n",
    "\n",
    "# process each .fasta file\n",
    "for i in range(len(fasta_files)):\n",
    "    sample_name = sample_names[i]\n",
    "    seqs = dinopy.FastaReader(fasta_files[i])\n",
    "    \n",
    "    # create a dictionary to store counts for each sequence\n",
    "    seq_counts = {}\n",
    "    for entry in seqs.entries():\n",
    "        seq = entry.sequence.decode()\n",
    "        value = np.uint64(entry.name.decode().split(\"size=\")[1].split(\";\")[0])\n",
    "        seq_counts[seq] = seq_counts.get(seq, 0) + value\n",
    "    \n",
    "    # convert the dictionary to a DataFrame and add it to the main DataFrame\n",
    "    df_sample = pd.DataFrame.from_dict(seq_counts, orient='index', columns=[sample_name])\n",
    "    df = pd.concat([df, df_sample], axis=1).fillna(0).astype(np.uint64)\n",
    "\n",
    "# save to file\n",
    "df.index.name = \"sequences\"\n",
    "df.to_hdf('../data/processed/output.h5', key='df', mode='w')\n",
    "df.to_csv('../data/processed/output.csv')"
   ]
  }
 ],
 "metadata": {
  "kernelspec": {
   "display_name": "maining",
   "language": "python",
   "name": "python3"
  },
  "language_info": {
   "codemirror_mode": {
    "name": "ipython",
    "version": 3
   },
   "file_extension": ".py",
   "mimetype": "text/x-python",
   "name": "python",
   "nbconvert_exporter": "python",
   "pygments_lexer": "ipython3",
   "version": "3.10.14"
  }
 },
 "nbformat": 4,
 "nbformat_minor": 2
}
